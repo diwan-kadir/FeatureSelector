{
  "nbformat": 4,
  "nbformat_minor": 0,
  "metadata": {
    "colab": {
      "name": "Cancer Detection.ipynb",
      "provenance": []
    },
    "kernelspec": {
      "name": "python3",
      "display_name": "Python 3"
    },
    "language_info": {
      "name": "python"
    }
  },
  "cells": [
    {
      "cell_type": "code",
      "metadata": {
        "id": "mnuHv5JwNGxQ"
      },
      "source": [
        "#importing the libraries\n",
        "import numpy as np\n",
        "import pandas as pd\n",
        "import matplotlib.pyplot as plt \n",
        "import seaborn as sns"
      ],
      "execution_count": null,
      "outputs": []
    },
    {
      "cell_type": "markdown",
      "metadata": {
        "id": "dSOadufpjgJC"
      },
      "source": [
        "# New section"
      ]
    },
    {
      "cell_type": "code",
      "metadata": {
        "colab": {
          "resources": {
            "http://localhost:8080/nbextensions/google.colab/files.js": {
              "data": "Ly8gQ29weXJpZ2h0IDIwMTcgR29vZ2xlIExMQwovLwovLyBMaWNlbnNlZCB1bmRlciB0aGUgQXBhY2hlIExpY2Vuc2UsIFZlcnNpb24gMi4wICh0aGUgIkxpY2Vuc2UiKTsKLy8geW91IG1heSBub3QgdXNlIHRoaXMgZmlsZSBleGNlcHQgaW4gY29tcGxpYW5jZSB3aXRoIHRoZSBMaWNlbnNlLgovLyBZb3UgbWF5IG9idGFpbiBhIGNvcHkgb2YgdGhlIExpY2Vuc2UgYXQKLy8KLy8gICAgICBodHRwOi8vd3d3LmFwYWNoZS5vcmcvbGljZW5zZXMvTElDRU5TRS0yLjAKLy8KLy8gVW5sZXNzIHJlcXVpcmVkIGJ5IGFwcGxpY2FibGUgbGF3IG9yIGFncmVlZCB0byBpbiB3cml0aW5nLCBzb2Z0d2FyZQovLyBkaXN0cmlidXRlZCB1bmRlciB0aGUgTGljZW5zZSBpcyBkaXN0cmlidXRlZCBvbiBhbiAiQVMgSVMiIEJBU0lTLAovLyBXSVRIT1VUIFdBUlJBTlRJRVMgT1IgQ09ORElUSU9OUyBPRiBBTlkgS0lORCwgZWl0aGVyIGV4cHJlc3Mgb3IgaW1wbGllZC4KLy8gU2VlIHRoZSBMaWNlbnNlIGZvciB0aGUgc3BlY2lmaWMgbGFuZ3VhZ2UgZ292ZXJuaW5nIHBlcm1pc3Npb25zIGFuZAovLyBsaW1pdGF0aW9ucyB1bmRlciB0aGUgTGljZW5zZS4KCi8qKgogKiBAZmlsZW92ZXJ2aWV3IEhlbHBlcnMgZm9yIGdvb2dsZS5jb2xhYiBQeXRob24gbW9kdWxlLgogKi8KKGZ1bmN0aW9uKHNjb3BlKSB7CmZ1bmN0aW9uIHNwYW4odGV4dCwgc3R5bGVBdHRyaWJ1dGVzID0ge30pIHsKICBjb25zdCBlbGVtZW50ID0gZG9jdW1lbnQuY3JlYXRlRWxlbWVudCgnc3BhbicpOwogIGVsZW1lbnQudGV4dENvbnRlbnQgPSB0ZXh0OwogIGZvciAoY29uc3Qga2V5IG9mIE9iamVjdC5rZXlzKHN0eWxlQXR0cmlidXRlcykpIHsKICAgIGVsZW1lbnQuc3R5bGVba2V5XSA9IHN0eWxlQXR0cmlidXRlc1trZXldOwogIH0KICByZXR1cm4gZWxlbWVudDsKfQoKLy8gTWF4IG51bWJlciBvZiBieXRlcyB3aGljaCB3aWxsIGJlIHVwbG9hZGVkIGF0IGEgdGltZS4KY29uc3QgTUFYX1BBWUxPQURfU0laRSA9IDEwMCAqIDEwMjQ7CgpmdW5jdGlvbiBfdXBsb2FkRmlsZXMoaW5wdXRJZCwgb3V0cHV0SWQpIHsKICBjb25zdCBzdGVwcyA9IHVwbG9hZEZpbGVzU3RlcChpbnB1dElkLCBvdXRwdXRJZCk7CiAgY29uc3Qgb3V0cHV0RWxlbWVudCA9IGRvY3VtZW50LmdldEVsZW1lbnRCeUlkKG91dHB1dElkKTsKICAvLyBDYWNoZSBzdGVwcyBvbiB0aGUgb3V0cHV0RWxlbWVudCB0byBtYWtlIGl0IGF2YWlsYWJsZSBmb3IgdGhlIG5leHQgY2FsbAogIC8vIHRvIHVwbG9hZEZpbGVzQ29udGludWUgZnJvbSBQeXRob24uCiAgb3V0cHV0RWxlbWVudC5zdGVwcyA9IHN0ZXBzOwoKICByZXR1cm4gX3VwbG9hZEZpbGVzQ29udGludWUob3V0cHV0SWQpOwp9CgovLyBUaGlzIGlzIHJvdWdobHkgYW4gYXN5bmMgZ2VuZXJhdG9yIChub3Qgc3VwcG9ydGVkIGluIHRoZSBicm93c2VyIHlldCksCi8vIHdoZXJlIHRoZXJlIGFyZSBtdWx0aXBsZSBhc3luY2hyb25vdXMgc3RlcHMgYW5kIHRoZSBQeXRob24gc2lkZSBpcyBnb2luZwovLyB0byBwb2xsIGZvciBjb21wbGV0aW9uIG9mIGVhY2ggc3RlcC4KLy8gVGhpcyB1c2VzIGEgUHJvbWlzZSB0byBibG9jayB0aGUgcHl0aG9uIHNpZGUgb24gY29tcGxldGlvbiBvZiBlYWNoIHN0ZXAsCi8vIHRoZW4gcGFzc2VzIHRoZSByZXN1bHQgb2YgdGhlIHByZXZpb3VzIHN0ZXAgYXMgdGhlIGlucHV0IHRvIHRoZSBuZXh0IHN0ZXAuCmZ1bmN0aW9uIF91cGxvYWRGaWxlc0NvbnRpbnVlKG91dHB1dElkKSB7CiAgY29uc3Qgb3V0cHV0RWxlbWVudCA9IGRvY3VtZW50LmdldEVsZW1lbnRCeUlkKG91dHB1dElkKTsKICBjb25zdCBzdGVwcyA9IG91dHB1dEVsZW1lbnQuc3RlcHM7CgogIGNvbnN0IG5leHQgPSBzdGVwcy5uZXh0KG91dHB1dEVsZW1lbnQubGFzdFByb21pc2VWYWx1ZSk7CiAgcmV0dXJuIFByb21pc2UucmVzb2x2ZShuZXh0LnZhbHVlLnByb21pc2UpLnRoZW4oKHZhbHVlKSA9PiB7CiAgICAvLyBDYWNoZSB0aGUgbGFzdCBwcm9taXNlIHZhbHVlIHRvIG1ha2UgaXQgYXZhaWxhYmxlIHRvIHRoZSBuZXh0CiAgICAvLyBzdGVwIG9mIHRoZSBnZW5lcmF0b3IuCiAgICBvdXRwdXRFbGVtZW50Lmxhc3RQcm9taXNlVmFsdWUgPSB2YWx1ZTsKICAgIHJldHVybiBuZXh0LnZhbHVlLnJlc3BvbnNlOwogIH0pOwp9CgovKioKICogR2VuZXJhdG9yIGZ1bmN0aW9uIHdoaWNoIGlzIGNhbGxlZCBiZXR3ZWVuIGVhY2ggYXN5bmMgc3RlcCBvZiB0aGUgdXBsb2FkCiAqIHByb2Nlc3MuCiAqIEBwYXJhbSB7c3RyaW5nfSBpbnB1dElkIEVsZW1lbnQgSUQgb2YgdGhlIGlucHV0IGZpbGUgcGlja2VyIGVsZW1lbnQuCiAqIEBwYXJhbSB7c3RyaW5nfSBvdXRwdXRJZCBFbGVtZW50IElEIG9mIHRoZSBvdXRwdXQgZGlzcGxheS4KICogQHJldHVybiB7IUl0ZXJhYmxlPCFPYmplY3Q+fSBJdGVyYWJsZSBvZiBuZXh0IHN0ZXBzLgogKi8KZnVuY3Rpb24qIHVwbG9hZEZpbGVzU3RlcChpbnB1dElkLCBvdXRwdXRJZCkgewogIGNvbnN0IGlucHV0RWxlbWVudCA9IGRvY3VtZW50LmdldEVsZW1lbnRCeUlkKGlucHV0SWQpOwogIGlucHV0RWxlbWVudC5kaXNhYmxlZCA9IGZhbHNlOwoKICBjb25zdCBvdXRwdXRFbGVtZW50ID0gZG9jdW1lbnQuZ2V0RWxlbWVudEJ5SWQob3V0cHV0SWQpOwogIG91dHB1dEVsZW1lbnQuaW5uZXJIVE1MID0gJyc7CgogIGNvbnN0IHBpY2tlZFByb21pc2UgPSBuZXcgUHJvbWlzZSgocmVzb2x2ZSkgPT4gewogICAgaW5wdXRFbGVtZW50LmFkZEV2ZW50TGlzdGVuZXIoJ2NoYW5nZScsIChlKSA9PiB7CiAgICAgIHJlc29sdmUoZS50YXJnZXQuZmlsZXMpOwogICAgfSk7CiAgfSk7CgogIGNvbnN0IGNhbmNlbCA9IGRvY3VtZW50LmNyZWF0ZUVsZW1lbnQoJ2J1dHRvbicpOwogIGlucHV0RWxlbWVudC5wYXJlbnRFbGVtZW50LmFwcGVuZENoaWxkKGNhbmNlbCk7CiAgY2FuY2VsLnRleHRDb250ZW50ID0gJ0NhbmNlbCB1cGxvYWQnOwogIGNvbnN0IGNhbmNlbFByb21pc2UgPSBuZXcgUHJvbWlzZSgocmVzb2x2ZSkgPT4gewogICAgY2FuY2VsLm9uY2xpY2sgPSAoKSA9PiB7CiAgICAgIHJlc29sdmUobnVsbCk7CiAgICB9OwogIH0pOwoKICAvLyBXYWl0IGZvciB0aGUgdXNlciB0byBwaWNrIHRoZSBmaWxlcy4KICBjb25zdCBmaWxlcyA9IHlpZWxkIHsKICAgIHByb21pc2U6IFByb21pc2UucmFjZShbcGlja2VkUHJvbWlzZSwgY2FuY2VsUHJvbWlzZV0pLAogICAgcmVzcG9uc2U6IHsKICAgICAgYWN0aW9uOiAnc3RhcnRpbmcnLAogICAgfQogIH07CgogIGNhbmNlbC5yZW1vdmUoKTsKCiAgLy8gRGlzYWJsZSB0aGUgaW5wdXQgZWxlbWVudCBzaW5jZSBmdXJ0aGVyIHBpY2tzIGFyZSBub3QgYWxsb3dlZC4KICBpbnB1dEVsZW1lbnQuZGlzYWJsZWQgPSB0cnVlOwoKICBpZiAoIWZpbGVzKSB7CiAgICByZXR1cm4gewogICAgICByZXNwb25zZTogewogICAgICAgIGFjdGlvbjogJ2NvbXBsZXRlJywKICAgICAgfQogICAgfTsKICB9CgogIGZvciAoY29uc3QgZmlsZSBvZiBmaWxlcykgewogICAgY29uc3QgbGkgPSBkb2N1bWVudC5jcmVhdGVFbGVtZW50KCdsaScpOwogICAgbGkuYXBwZW5kKHNwYW4oZmlsZS5uYW1lLCB7Zm9udFdlaWdodDogJ2JvbGQnfSkpOwogICAgbGkuYXBwZW5kKHNwYW4oCiAgICAgICAgYCgke2ZpbGUudHlwZSB8fCAnbi9hJ30pIC0gJHtmaWxlLnNpemV9IGJ5dGVzLCBgICsKICAgICAgICBgbGFzdCBtb2RpZmllZDogJHsKICAgICAgICAgICAgZmlsZS5sYXN0TW9kaWZpZWREYXRlID8gZmlsZS5sYXN0TW9kaWZpZWREYXRlLnRvTG9jYWxlRGF0ZVN0cmluZygpIDoKICAgICAgICAgICAgICAgICAgICAgICAgICAgICAgICAgICAgJ24vYSd9IC0gYCkpOwogICAgY29uc3QgcGVyY2VudCA9IHNwYW4oJzAlIGRvbmUnKTsKICAgIGxpLmFwcGVuZENoaWxkKHBlcmNlbnQpOwoKICAgIG91dHB1dEVsZW1lbnQuYXBwZW5kQ2hpbGQobGkpOwoKICAgIGNvbnN0IGZpbGVEYXRhUHJvbWlzZSA9IG5ldyBQcm9taXNlKChyZXNvbHZlKSA9PiB7CiAgICAgIGNvbnN0IHJlYWRlciA9IG5ldyBGaWxlUmVhZGVyKCk7CiAgICAgIHJlYWRlci5vbmxvYWQgPSAoZSkgPT4gewogICAgICAgIHJlc29sdmUoZS50YXJnZXQucmVzdWx0KTsKICAgICAgfTsKICAgICAgcmVhZGVyLnJlYWRBc0FycmF5QnVmZmVyKGZpbGUpOwogICAgfSk7CiAgICAvLyBXYWl0IGZvciB0aGUgZGF0YSB0byBiZSByZWFkeS4KICAgIGxldCBmaWxlRGF0YSA9IHlpZWxkIHsKICAgICAgcHJvbWlzZTogZmlsZURhdGFQcm9taXNlLAogICAgICByZXNwb25zZTogewogICAgICAgIGFjdGlvbjogJ2NvbnRpbnVlJywKICAgICAgfQogICAgfTsKCiAgICAvLyBVc2UgYSBjaHVua2VkIHNlbmRpbmcgdG8gYXZvaWQgbWVzc2FnZSBzaXplIGxpbWl0cy4gU2VlIGIvNjIxMTU2NjAuCiAgICBsZXQgcG9zaXRpb24gPSAwOwogICAgZG8gewogICAgICBjb25zdCBsZW5ndGggPSBNYXRoLm1pbihmaWxlRGF0YS5ieXRlTGVuZ3RoIC0gcG9zaXRpb24sIE1BWF9QQVlMT0FEX1NJWkUpOwogICAgICBjb25zdCBjaHVuayA9IG5ldyBVaW50OEFycmF5KGZpbGVEYXRhLCBwb3NpdGlvbiwgbGVuZ3RoKTsKICAgICAgcG9zaXRpb24gKz0gbGVuZ3RoOwoKICAgICAgY29uc3QgYmFzZTY0ID0gYnRvYShTdHJpbmcuZnJvbUNoYXJDb2RlLmFwcGx5KG51bGwsIGNodW5rKSk7CiAgICAgIHlpZWxkIHsKICAgICAgICByZXNwb25zZTogewogICAgICAgICAgYWN0aW9uOiAnYXBwZW5kJywKICAgICAgICAgIGZpbGU6IGZpbGUubmFtZSwKICAgICAgICAgIGRhdGE6IGJhc2U2NCwKICAgICAgICB9LAogICAgICB9OwoKICAgICAgbGV0IHBlcmNlbnREb25lID0gZmlsZURhdGEuYnl0ZUxlbmd0aCA9PT0gMCA/CiAgICAgICAgICAxMDAgOgogICAgICAgICAgTWF0aC5yb3VuZCgocG9zaXRpb24gLyBmaWxlRGF0YS5ieXRlTGVuZ3RoKSAqIDEwMCk7CiAgICAgIHBlcmNlbnQudGV4dENvbnRlbnQgPSBgJHtwZXJjZW50RG9uZX0lIGRvbmVgOwoKICAgIH0gd2hpbGUgKHBvc2l0aW9uIDwgZmlsZURhdGEuYnl0ZUxlbmd0aCk7CiAgfQoKICAvLyBBbGwgZG9uZS4KICB5aWVsZCB7CiAgICByZXNwb25zZTogewogICAgICBhY3Rpb246ICdjb21wbGV0ZScsCiAgICB9CiAgfTsKfQoKc2NvcGUuZ29vZ2xlID0gc2NvcGUuZ29vZ2xlIHx8IHt9OwpzY29wZS5nb29nbGUuY29sYWIgPSBzY29wZS5nb29nbGUuY29sYWIgfHwge307CnNjb3BlLmdvb2dsZS5jb2xhYi5fZmlsZXMgPSB7CiAgX3VwbG9hZEZpbGVzLAogIF91cGxvYWRGaWxlc0NvbnRpbnVlLAp9Owp9KShzZWxmKTsK",
              "ok": true,
              "headers": [
                [
                  "content-type",
                  "application/javascript"
                ]
              ],
              "status": 200,
              "status_text": ""
            }
          },
          "base_uri": "https://localhost:8080/",
          "height": 109
        },
        "id": "xh0a5xn6PETx",
        "outputId": "f8159dc6-5abf-4dc4-baa3-d4a6b3092fed"
      },
      "source": [
        "# Loading the data\n",
        "from google.colab import files\n",
        "files.upload()\n",
        "\n"
      ],
      "execution_count": null,
      "outputs": [
        {
          "output_type": "display_data",
          "data": {
            "text/html": [
              "\n",
              "     <input type=\"file\" id=\"files-e13e7811-82c6-494d-876f-6ec15fb028b6\" name=\"files[]\" multiple disabled\n",
              "        style=\"border:none\" />\n",
              "     <output id=\"result-e13e7811-82c6-494d-876f-6ec15fb028b6\">\n",
              "      Upload widget is only available when the cell has been executed in the\n",
              "      current browser session. Please rerun this cell to enable.\n",
              "      </output>\n",
              "      <script src=\"/nbextensions/google.colab/files.js\"></script> "
            ],
            "text/plain": [
              "<IPython.core.display.HTML object>"
            ]
          },
          "metadata": {
            "tags": []
          }
        },
        {
          "output_type": "stream",
          "text": [
            "Saving data.csv to data.csv\n"
          ],
          "name": "stdout"
        },
        {
          "output_type": "execute_result",
          "data": {
            "text/plain": [
              "{'data.csv': b'mean_radius,mean_texture,mean_perimeter,mean_area,mean_smoothness,diagnosis\\r\\n17.99,10.38,122.8,1001.0,0.1184,0\\r\\n20.57,17.77,132.9,1326.0,0.08474,0\\r\\n19.69,21.25,130.0,1203.0,0.1096,0\\r\\n11.42,20.38,77.58,386.1,0.1425,0\\r\\n20.29,14.34,135.1,1297.0,0.1003,0\\r\\n12.45,15.7,82.57,477.1,0.1278,0\\r\\n18.25,19.98,119.6,1040.0,0.09463,0\\r\\n13.71,20.83,90.2,577.9,0.1189,0\\r\\n13.0,21.82,87.5,519.8,0.1273,0\\r\\n12.46,24.04,83.97,475.9,0.1186,0\\r\\n16.02,23.24,102.7,797.8,0.08206,0\\r\\n15.78,17.89,103.6,781.0,0.0971,0\\r\\n19.17,24.8,132.4,1123.0,0.0974,0\\r\\n15.85,23.95,103.7,782.7,0.08401,0\\r\\n13.73,22.61,93.6,578.3,0.1131,0\\r\\n14.54,27.54,96.73,658.8,0.1139,0\\r\\n14.68,20.13,94.74,684.5,0.09867,0\\r\\n16.13,20.68,108.1,798.8,0.117,0\\r\\n19.81,22.15,130.0,1260.0,0.09831,0\\r\\n13.54,14.36,87.46,566.3,0.09779,1\\r\\n13.08,15.71,85.63,520.0,0.1075,1\\r\\n9.504,12.44,60.34,273.9,0.1024,1\\r\\n15.34,14.26,102.5,704.4,0.1073,0\\r\\n21.16,23.04,137.2,1404.0,0.09428,0\\r\\n16.65,21.38,110.0,904.6,0.1121,0\\r\\n17.14,16.4,116.0,912.7,0.1186,0\\r\\n14.58,21.53,97.41,644.8,0.1054,0\\r\\n18.61,20.25,122.1,1094.0,0.0944,0\\r\\n15.3,25.27,102.4,732.4,0.1082,0\\r\\n17.57,15.05,115.0,955.1,0.09847,0\\r\\n18.63,25.11,124.8,1088.0,0.1064,0\\r\\n11.84,18.7,77.93,440.6,0.1109,0\\r\\n17.02,23.98,112.8,899.3,0.1197,0\\r\\n19.27,26.47,127.9,1162.0,0.09401,0\\r\\n16.13,17.88,107.0,807.2,0.104,0\\r\\n16.74,21.59,110.1,869.5,0.0961,0\\r\\n14.25,21.72,93.63,633.0,0.09823,0\\r\\n13.03,18.42,82.61,523.8,0.08983,1\\r\\n14.99,25.2,95.54,698.8,0.09387,0\\r\\n13.48,20.82,88.4,559.2,0.1016,0\\r\\n13.44,21.58,86.18,563.0,0.08162,0\\r\\n10.95,21.35,71.9,371.1,0.1227,0\\r\\n19.07,24.81,128.3,1104.0,0.09081,0\\r\\n13.28,20.28,87.32,545.2,0.1041,0\\r\\n13.17,21.81,85.42,531.5,0.09714,0\\r\\n18.65,17.6,123.7,1076.0,0.1099,0\\r\\n8.196,16.84,51.71,201.9,0.086,1\\r\\n13.17,18.66,85.98,534.6,0.1158,0\\r\\n12.05,14.63,78.04,449.3,0.1031,1\\r\\n13.49,22.3,86.91,561.0,0.08752,1\\r\\n11.76,21.6,74.72,427.9,0.08637,1\\r\\n13.64,16.34,87.21,571.8,0.07685,1\\r\\n11.94,18.24,75.71,437.6,0.08261,1\\r\\n18.22,18.7,120.3,1033.0,0.1148,0\\r\\n15.1,22.02,97.26,712.8,0.09056,0\\r\\n11.52,18.75,73.34,409.0,0.09524,1\\r\\n19.21,18.57,125.5,1152.0,0.1053,0\\r\\n14.71,21.59,95.55,656.9,0.1137,0\\r\\n13.05,19.31,82.61,527.2,0.0806,1\\r\\n8.618,11.79,54.34,224.5,0.09752,1\\r\\n10.17,14.88,64.55,311.9,0.1134,1\\r\\n8.598,20.98,54.66,221.8,0.1243,1\\r\\n14.25,22.15,96.42,645.7,0.1049,0\\r\\n9.173,13.86,59.2,260.9,0.07721,1\\r\\n12.68,23.84,82.69,499.0,0.1122,0\\r\\n14.78,23.94,97.4,668.3,0.1172,0\\r\\n9.465,21.01,60.11,269.4,0.1044,1\\r\\n11.31,19.04,71.8,394.1,0.08139,1\\r\\n9.029,17.33,58.79,250.5,0.1066,1\\r\\n12.78,16.49,81.37,502.5,0.09831,1\\r\\n18.94,21.31,123.6,1130.0,0.09009,0\\r\\n8.888,14.64,58.79,244.0,0.09783,1\\r\\n17.2,24.52,114.2,929.4,0.1071,0\\r\\n13.8,15.79,90.43,584.1,0.1007,0\\r\\n12.31,16.52,79.19,470.9,0.09172,1\\r\\n16.07,19.65,104.1,817.7,0.09168,0\\r\\n13.53,10.94,87.91,559.2,0.1291,1\\r\\n18.05,16.15,120.2,1006.0,0.1065,0\\r\\n20.18,23.97,143.7,1245.0,0.1286,0\\r\\n12.86,18.0,83.19,506.3,0.09934,1\\r\\n11.45,20.97,73.81,401.5,0.1102,1\\r\\n13.34,15.86,86.49,520.0,0.1078,1\\r\\n25.22,24.91,171.5,1878.0,0.1063,0\\r\\n19.1,26.29,129.1,1132.0,0.1215,0\\r\\n12.0,15.65,76.95,443.3,0.09723,1\\r\\n18.46,18.52,121.1,1075.0,0.09874,0\\r\\n14.48,21.46,94.25,648.2,0.09444,0\\r\\n19.02,24.59,122.0,1076.0,0.09029,0\\r\\n12.36,21.8,79.78,466.1,0.08772,1\\r\\n14.64,15.24,95.77,651.9,0.1132,1\\r\\n14.62,24.02,94.57,662.7,0.08974,1\\r\\n15.37,22.76,100.2,728.2,0.092,0\\r\\n13.27,14.76,84.74,551.7,0.07355,1\\r\\n13.45,18.3,86.6,555.1,0.1022,1\\r\\n15.06,19.83,100.3,705.6,0.1039,0\\r\\n20.26,23.03,132.4,1264.0,0.09078,0\\r\\n12.18,17.84,77.79,451.1,0.1045,1\\r\\n9.787,19.94,62.11,294.5,0.1024,1\\r\\n11.6,12.84,74.34,412.6,0.08983,1\\r\\n14.42,19.77,94.48,642.5,0.09752,0\\r\\n13.61,24.98,88.05,582.7,0.09488,0\\r\\n6.981,13.43,43.79,143.5,0.117,1\\r\\n12.18,20.52,77.22,458.7,0.08013,1\\r\\n9.876,19.4,63.95,298.3,0.1005,1\\r\\n10.49,19.29,67.41,336.1,0.09989,1\\r\\n13.11,15.56,87.21,530.2,0.1398,0\\r\\n11.64,18.33,75.17,412.5,0.1142,1\\r\\n12.36,18.54,79.01,466.7,0.08477,1\\r\\n22.27,19.67,152.8,1509.0,0.1326,0\\r\\n11.34,21.26,72.48,396.5,0.08759,1\\r\\n9.777,16.99,62.5,290.2,0.1037,1\\r\\n12.63,20.76,82.15,480.4,0.09933,1\\r\\n14.26,19.65,97.83,629.9,0.07837,1\\r\\n10.51,20.19,68.64,334.2,0.1122,1\\r\\n8.726,15.83,55.84,230.9,0.115,1\\r\\n11.93,21.53,76.53,438.6,0.09768,1\\r\\n8.95,15.76,58.74,245.2,0.09462,1\\r\\n14.87,16.67,98.64,682.5,0.1162,0\\r\\n15.78,22.91,105.7,782.6,0.1155,0\\r\\n17.95,20.01,114.2,982.0,0.08402,0\\r\\n11.41,10.82,73.34,403.3,0.09373,1\\r\\n18.66,17.12,121.4,1077.0,0.1054,0\\r\\n24.25,20.2,166.2,1761.0,0.1447,0\\r\\n14.5,10.89,94.28,640.7,0.1101,1\\r\\n13.37,16.39,86.1,553.5,0.07115,1\\r\\n13.85,17.21,88.44,588.7,0.08785,1\\r\\n13.61,24.69,87.76,572.6,0.09258,0\\r\\n19.0,18.91,123.4,1138.0,0.08217,0\\r\\n15.1,16.39,99.58,674.5,0.115,1\\r\\n19.79,25.12,130.4,1192.0,0.1015,0\\r\\n12.19,13.29,79.08,455.8,0.1066,1\\r\\n15.46,19.48,101.7,748.9,0.1092,0\\r\\n16.16,21.54,106.2,809.8,0.1008,0\\r\\n15.71,13.93,102.0,761.7,0.09462,1\\r\\n18.45,21.91,120.2,1075.0,0.0943,0\\r\\n12.77,22.47,81.72,506.3,0.09055,0\\r\\n11.71,16.67,74.72,423.6,0.1051,1\\r\\n11.43,15.39,73.06,399.8,0.09639,1\\r\\n14.95,17.57,96.85,678.1,0.1167,0\\r\\n11.28,13.39,73.0,384.8,0.1164,1\\r\\n9.738,11.97,61.24,288.5,0.0925,1\\r\\n16.11,18.05,105.1,813.0,0.09721,0\\r\\n11.43,17.31,73.66,398.0,0.1092,1\\r\\n12.9,15.92,83.74,512.2,0.08677,1\\r\\n10.75,14.97,68.26,355.3,0.07793,1\\r\\n11.9,14.65,78.11,432.8,0.1152,1\\r\\n11.8,16.58,78.99,432.0,0.1091,0\\r\\n14.95,18.77,97.84,689.5,0.08138,1\\r\\n14.44,15.18,93.97,640.1,0.0997,1\\r\\n13.74,17.91,88.12,585.0,0.07944,1\\r\\n13.0,20.78,83.51,519.4,0.1135,1\\r\\n8.219,20.7,53.27,203.9,0.09405,1\\r\\n9.731,15.34,63.78,300.2,0.1072,1\\r\\n11.15,13.08,70.87,381.9,0.09754,1\\r\\n13.15,15.34,85.31,538.9,0.09384,1\\r\\n12.25,17.94,78.27,460.3,0.08654,1\\r\\n17.68,20.74,117.4,963.7,0.1115,0\\r\\n16.84,19.46,108.4,880.2,0.07445,1\\r\\n12.06,12.74,76.84,448.6,0.09311,1\\r\\n10.9,12.96,68.69,366.8,0.07515,1\\r\\n11.75,20.18,76.1,419.8,0.1089,1\\r\\n19.19,15.94,126.3,1157.0,0.08694,0\\r\\n19.59,18.15,130.7,1214.0,0.112,0\\r\\n12.34,22.22,79.85,464.5,0.1012,1\\r\\n23.27,22.04,152.1,1686.0,0.08439,0\\r\\n14.97,19.76,95.5,690.2,0.08421,1\\r\\n10.8,9.71,68.77,357.6,0.09594,1\\r\\n16.78,18.8,109.3,886.3,0.08865,0\\r\\n17.47,24.68,116.1,984.6,0.1049,0\\r\\n14.97,16.95,96.22,685.9,0.09855,1\\r\\n12.32,12.39,78.85,464.1,0.1028,1\\r\\n13.43,19.63,85.84,565.4,0.09048,0\\r\\n15.46,11.89,102.5,736.9,0.1257,0\\r\\n11.08,14.71,70.21,372.7,0.1006,1\\r\\n10.66,15.15,67.49,349.6,0.08792,1\\r\\n8.671,14.45,54.42,227.2,0.09138,1\\r\\n9.904,18.06,64.6,302.4,0.09699,1\\r\\n16.46,20.11,109.3,832.9,0.09831,0\\r\\n13.01,22.22,82.01,526.4,0.06251,1\\r\\n12.81,13.06,81.29,508.8,0.08739,1\\r\\n27.22,21.87,182.1,2250.0,0.1094,0\\r\\n21.09,26.57,142.7,1311.0,0.1141,0\\r\\n15.7,20.31,101.2,766.6,0.09597,0\\r\\n11.41,14.92,73.53,402.0,0.09059,1\\r\\n15.28,22.41,98.92,710.6,0.09057,0\\r\\n10.08,15.11,63.76,317.5,0.09267,1\\r\\n18.31,18.58,118.6,1041.0,0.08588,0\\r\\n11.71,17.19,74.68,420.3,0.09774,1\\r\\n11.81,17.39,75.27,428.9,0.1007,1\\r\\n12.3,15.9,78.83,463.7,0.0808,1\\r\\n14.22,23.12,94.37,609.9,0.1075,0\\r\\n12.77,21.41,82.02,507.4,0.08749,1\\r\\n9.72,18.22,60.73,288.1,0.0695,1\\r\\n12.34,26.86,81.15,477.4,0.1034,0\\r\\n14.86,23.21,100.4,671.4,0.1044,0\\r\\n12.91,16.33,82.53,516.4,0.07941,1\\r\\n13.77,22.29,90.63,588.9,0.12,0\\r\\n18.08,21.84,117.4,1024.0,0.07371,0\\r\\n19.18,22.49,127.5,1148.0,0.08523,0\\r\\n14.45,20.22,94.49,642.7,0.09872,0\\r\\n12.23,19.56,78.54,461.0,0.09586,1\\r\\n17.54,19.32,115.1,951.6,0.08968,0\\r\\n23.29,26.67,158.9,1685.0,0.1141,0\\r\\n13.81,23.75,91.56,597.8,0.1323,0\\r\\n12.47,18.6,81.09,481.9,0.09965,1\\r\\n15.12,16.68,98.78,716.6,0.08876,0\\r\\n9.876,17.27,62.92,295.4,0.1089,1\\r\\n17.01,20.26,109.7,904.3,0.08772,0\\r\\n13.11,22.54,87.02,529.4,0.1002,1\\r\\n15.27,12.91,98.17,725.5,0.08182,1\\r\\n20.58,22.14,134.7,1290.0,0.0909,0\\r\\n11.84,18.94,75.51,428.0,0.08871,1\\r\\n28.11,18.47,188.5,2499.0,0.1142,0\\r\\n17.42,25.56,114.5,948.0,0.1006,0\\r\\n14.19,23.81,92.87,610.7,0.09463,0\\r\\n13.86,16.93,90.96,578.9,0.1026,0\\r\\n11.89,18.35,77.32,432.2,0.09363,1\\r\\n10.2,17.48,65.05,321.2,0.08054,1\\r\\n19.8,21.56,129.7,1230.0,0.09383,0\\r\\n19.53,32.47,128.0,1223.0,0.0842,0\\r\\n13.65,13.16,87.88,568.9,0.09646,1\\r\\n13.56,13.9,88.59,561.3,0.1051,1\\r\\n10.18,17.53,65.12,313.1,0.1061,1\\r\\n15.75,20.25,102.6,761.3,0.1025,0\\r\\n13.27,17.02,84.55,546.4,0.08445,1\\r\\n14.34,13.47,92.51,641.2,0.09906,1\\r\\n10.44,15.46,66.62,329.6,0.1053,1\\r\\n15.0,15.51,97.45,684.5,0.08371,1\\r\\n12.62,23.97,81.35,496.4,0.07903,1\\r\\n12.83,22.33,85.26,503.2,0.1088,0\\r\\n17.05,19.08,113.4,895.0,0.1141,0\\r\\n11.32,27.08,71.76,395.7,0.06883,1\\r\\n11.22,33.81,70.79,386.8,0.0778,1\\r\\n20.51,27.81,134.4,1319.0,0.09159,0\\r\\n9.567,15.91,60.21,279.6,0.08464,1\\r\\n14.03,21.25,89.79,603.4,0.0907,1\\r\\n23.21,26.97,153.5,1670.0,0.09509,0\\r\\n20.48,21.46,132.5,1306.0,0.08355,0\\r\\n14.22,27.85,92.55,623.9,0.08223,1\\r\\n17.46,39.28,113.4,920.6,0.09812,0\\r\\n13.64,15.6,87.38,575.3,0.09423,1\\r\\n12.42,15.04,78.61,476.5,0.07926,1\\r\\n11.3,18.19,73.93,389.4,0.09592,1\\r\\n13.75,23.77,88.54,590.0,0.08043,1\\r\\n19.4,23.5,129.1,1155.0,0.1027,0\\r\\n10.48,19.86,66.72,337.7,0.107,1\\r\\n13.2,17.43,84.13,541.6,0.07215,1\\r\\n12.89,14.11,84.95,512.2,0.0876,1\\r\\n10.65,25.22,68.01,347.0,0.09657,1\\r\\n11.52,14.93,73.87,406.3,0.1013,1\\r\\n20.94,23.56,138.9,1364.0,0.1007,0\\r\\n11.5,18.45,73.28,407.4,0.09345,1\\r\\n19.73,19.82,130.7,1206.0,0.1062,0\\r\\n17.3,17.08,113.0,928.2,0.1008,0\\r\\n19.45,19.33,126.5,1169.0,0.1035,0\\r\\n13.96,17.05,91.43,602.4,0.1096,0\\r\\n19.55,28.77,133.6,1207.0,0.0926,0\\r\\n15.32,17.27,103.2,713.3,0.1335,0\\r\\n15.66,23.2,110.2,773.5,0.1109,0\\r\\n15.53,33.56,103.7,744.9,0.1063,0\\r\\n20.31,27.06,132.9,1288.0,0.1,0\\r\\n17.35,23.06,111.0,933.1,0.08662,0\\r\\n17.29,22.13,114.4,947.8,0.08999,0\\r\\n15.61,19.38,100.0,758.6,0.0784,0\\r\\n17.19,22.07,111.6,928.3,0.09726,0\\r\\n20.73,31.12,135.7,1419.0,0.09469,0\\r\\n10.6,18.95,69.28,346.4,0.09688,1\\r\\n13.59,21.84,87.16,561.0,0.07956,1\\r\\n12.87,16.21,82.38,512.2,0.09425,1\\r\\n10.71,20.39,69.5,344.9,0.1082,1\\r\\n14.29,16.82,90.3,632.6,0.06429,1\\r\\n11.29,13.04,72.23,388.0,0.09834,1\\r\\n21.75,20.99,147.3,1491.0,0.09401,0\\r\\n9.742,15.67,61.5,289.9,0.09037,1\\r\\n17.93,24.48,115.2,998.9,0.08855,0\\r\\n11.89,17.36,76.2,435.6,0.1225,1\\r\\n11.33,14.16,71.79,396.6,0.09379,1\\r\\n18.81,19.98,120.9,1102.0,0.08923,0\\r\\n13.59,17.84,86.24,572.3,0.07948,1\\r\\n13.85,15.18,88.99,587.4,0.09516,1\\r\\n19.16,26.6,126.2,1138.0,0.102,0\\r\\n11.74,14.02,74.24,427.3,0.07813,1\\r\\n19.4,18.18,127.2,1145.0,0.1037,0\\r\\n16.24,18.77,108.8,805.1,0.1066,0\\r\\n12.89,15.7,84.08,516.6,0.07818,1\\r\\n12.58,18.4,79.83,489.0,0.08393,1\\r\\n11.94,20.76,77.87,441.0,0.08605,1\\r\\n12.89,13.12,81.89,515.9,0.06955,1\\r\\n11.26,19.96,73.72,394.1,0.0802,1\\r\\n11.37,18.89,72.17,396.0,0.08713,1\\r\\n14.41,19.73,96.03,651.0,0.08757,1\\r\\n14.96,19.1,97.03,687.3,0.08992,1\\r\\n12.95,16.02,83.14,513.7,0.1005,1\\r\\n11.85,17.46,75.54,432.7,0.08372,1\\r\\n12.72,13.78,81.78,492.1,0.09667,1\\r\\n13.77,13.27,88.06,582.7,0.09198,1\\r\\n10.91,12.35,69.14,363.7,0.08518,1\\r\\n11.76,18.14,75.0,431.1,0.09968,0\\r\\n14.26,18.17,91.22,633.1,0.06576,1\\r\\n10.51,23.09,66.85,334.2,0.1015,1\\r\\n19.53,18.9,129.5,1217.0,0.115,0\\r\\n12.46,19.89,80.43,471.3,0.08451,1\\r\\n20.09,23.86,134.7,1247.0,0.108,0\\r\\n10.49,18.61,66.86,334.3,0.1068,1\\r\\n11.46,18.16,73.59,403.1,0.08853,1\\r\\n11.6,24.49,74.23,417.2,0.07474,1\\r\\n13.2,15.82,84.07,537.3,0.08511,1\\r\\n9.0,14.4,56.36,246.3,0.07005,1\\r\\n13.5,12.71,85.69,566.2,0.07376,1\\r\\n13.05,13.84,82.71,530.6,0.08352,1\\r\\n11.7,19.11,74.33,418.7,0.08814,1\\r\\n14.61,15.69,92.68,664.9,0.07618,1\\r\\n12.76,13.37,82.29,504.1,0.08794,1\\r\\n11.54,10.72,73.73,409.1,0.08597,1\\r\\n8.597,18.6,54.09,221.2,0.1074,1\\r\\n12.49,16.85,79.19,481.6,0.08511,1\\r\\n12.18,14.08,77.25,461.4,0.07734,1\\r\\n18.22,18.87,118.7,1027.0,0.09746,0\\r\\n9.042,18.9,60.07,244.5,0.09968,1\\r\\n12.43,17.0,78.6,477.3,0.07557,1\\r\\n10.25,16.18,66.52,324.2,0.1061,1\\r\\n20.16,19.66,131.1,1274.0,0.0802,0\\r\\n12.86,13.32,82.82,504.8,0.1134,1\\r\\n20.34,21.51,135.9,1264.0,0.117,0\\r\\n12.2,15.21,78.01,457.9,0.08673,1\\r\\n12.67,17.3,81.25,489.9,0.1028,1\\r\\n14.11,12.88,90.03,616.5,0.09309,1\\r\\n12.03,17.93,76.09,446.0,0.07683,1\\r\\n16.27,20.71,106.9,813.7,0.1169,0\\r\\n16.26,21.88,107.5,826.8,0.1165,0\\r\\n16.03,15.51,105.8,793.2,0.09491,0\\r\\n12.98,19.35,84.52,514.0,0.09579,1\\r\\n11.22,19.86,71.94,387.3,0.1054,1\\r\\n11.25,14.78,71.38,390.0,0.08306,1\\r\\n12.3,19.02,77.88,464.4,0.08313,1\\r\\n17.06,21.0,111.8,918.6,0.1119,0\\r\\n12.99,14.23,84.08,514.3,0.09462,1\\r\\n18.77,21.43,122.9,1092.0,0.09116,0\\r\\n10.05,17.53,64.41,310.8,0.1007,1\\r\\n23.51,24.27,155.1,1747.0,0.1069,0\\r\\n14.42,16.54,94.15,641.2,0.09751,1\\r\\n9.606,16.84,61.64,280.5,0.08481,1\\r\\n11.06,14.96,71.49,373.9,0.1033,1\\r\\n19.68,21.68,129.9,1194.0,0.09797,0\\r\\n11.71,15.45,75.03,420.3,0.115,1\\r\\n10.26,14.71,66.2,321.6,0.09882,1\\r\\n12.06,18.9,76.66,445.3,0.08386,1\\r\\n14.76,14.74,94.87,668.7,0.08875,1\\r\\n11.47,16.03,73.02,402.7,0.09076,1\\r\\n11.95,14.96,77.23,426.7,0.1158,1\\r\\n11.66,17.07,73.7,421.0,0.07561,1\\r\\n15.75,19.22,107.1,758.6,0.1243,0\\r\\n25.73,17.46,174.2,2010.0,0.1149,0\\r\\n15.08,25.74,98.0,716.6,0.1024,0\\r\\n11.14,14.07,71.24,384.6,0.07274,1\\r\\n12.56,19.07,81.92,485.8,0.0876,1\\r\\n13.05,18.59,85.09,512.0,0.1082,1\\r\\n13.87,16.21,88.52,593.7,0.08743,1\\r\\n8.878,15.49,56.74,241.0,0.08293,1\\r\\n9.436,18.32,59.82,278.6,0.1009,1\\r\\n12.54,18.07,79.42,491.9,0.07436,1\\r\\n13.3,21.57,85.24,546.1,0.08582,1\\r\\n12.76,18.84,81.87,496.6,0.09676,1\\r\\n16.5,18.29,106.6,838.1,0.09686,1\\r\\n13.4,16.95,85.48,552.4,0.07937,1\\r\\n20.44,21.78,133.8,1293.0,0.0915,0\\r\\n20.2,26.83,133.7,1234.0,0.09905,0\\r\\n12.21,18.02,78.31,458.4,0.09231,1\\r\\n21.71,17.25,140.9,1546.0,0.09384,0\\r\\n22.01,21.9,147.2,1482.0,0.1063,0\\r\\n16.35,23.29,109.0,840.4,0.09742,0\\r\\n15.19,13.21,97.65,711.8,0.07963,1\\r\\n21.37,15.1,141.3,1386.0,0.1001,0\\r\\n20.64,17.35,134.8,1335.0,0.09446,0\\r\\n13.69,16.07,87.84,579.1,0.08302,1\\r\\n16.17,16.07,106.3,788.5,0.0988,1\\r\\n10.57,20.22,70.15,338.3,0.09073,1\\r\\n13.46,28.21,85.89,562.1,0.07517,1\\r\\n13.66,15.15,88.27,580.6,0.08268,1\\r\\n11.08,18.83,73.3,361.6,0.1216,0\\r\\n11.27,12.96,73.16,386.3,0.1237,1\\r\\n11.04,14.93,70.67,372.7,0.07987,1\\r\\n12.05,22.72,78.75,447.8,0.06935,1\\r\\n12.39,17.48,80.64,462.9,0.1042,1\\r\\n13.28,13.72,85.79,541.8,0.08363,1\\r\\n14.6,23.29,93.97,664.7,0.08682,0\\r\\n12.21,14.09,78.78,462.0,0.08108,1\\r\\n13.88,16.16,88.37,596.6,0.07026,1\\r\\n11.27,15.5,73.38,392.0,0.08365,1\\r\\n19.55,23.21,128.9,1174.0,0.101,0\\r\\n10.26,12.22,65.75,321.6,0.09996,1\\r\\n8.734,16.84,55.27,234.3,0.1039,1\\r\\n15.49,19.97,102.4,744.7,0.116,0\\r\\n21.61,22.28,144.4,1407.0,0.1167,0\\r\\n12.1,17.72,78.07,446.2,0.1029,1\\r\\n14.06,17.18,89.75,609.1,0.08045,1\\r\\n13.51,18.89,88.1,558.1,0.1059,1\\r\\n12.8,17.46,83.05,508.3,0.08044,1\\r\\n11.06,14.83,70.31,378.2,0.07741,1\\r\\n11.8,17.26,75.26,431.9,0.09087,1\\r\\n17.91,21.02,124.4,994.0,0.123,0\\r\\n11.93,10.91,76.14,442.7,0.08872,1\\r\\n12.96,18.29,84.18,525.2,0.07351,1\\r\\n12.94,16.17,83.18,507.6,0.09879,1\\r\\n12.34,14.95,78.29,469.1,0.08682,1\\r\\n10.94,18.59,70.39,370.0,0.1004,1\\r\\n16.14,14.86,104.3,800.0,0.09495,1\\r\\n12.85,21.37,82.63,514.5,0.07551,1\\r\\n17.99,20.66,117.8,991.7,0.1036,0\\r\\n12.27,17.92,78.41,466.1,0.08685,1\\r\\n11.36,17.57,72.49,399.8,0.08858,1\\r\\n11.04,16.83,70.92,373.2,0.1077,1\\r\\n9.397,21.68,59.75,268.8,0.07969,1\\r\\n14.99,22.11,97.53,693.7,0.08515,1\\r\\n15.13,29.81,96.71,719.5,0.0832,0\\r\\n11.89,21.17,76.39,433.8,0.09773,1\\r\\n9.405,21.7,59.6,271.2,0.1044,1\\r\\n15.5,21.08,102.9,803.1,0.112,0\\r\\n12.7,12.17,80.88,495.0,0.08785,1\\r\\n11.16,21.41,70.95,380.3,0.1018,1\\r\\n11.57,19.04,74.2,409.7,0.08546,1\\r\\n14.69,13.98,98.22,656.1,0.1031,1\\r\\n11.61,16.02,75.46,408.2,0.1088,1\\r\\n13.66,19.13,89.46,575.3,0.09057,1\\r\\n9.742,19.12,61.93,289.7,0.1075,1\\r\\n10.03,21.28,63.19,307.3,0.08117,1\\r\\n10.48,14.98,67.49,333.6,0.09816,1\\r\\n10.8,21.98,68.79,359.9,0.08801,1\\r\\n11.13,16.62,70.47,381.1,0.08151,1\\r\\n12.72,17.67,80.98,501.3,0.07896,1\\r\\n14.9,22.53,102.1,685.0,0.09947,0\\r\\n12.4,17.68,81.47,467.8,0.1054,1\\r\\n20.18,19.54,133.8,1250.0,0.1133,0\\r\\n18.82,21.97,123.7,1110.0,0.1018,0\\r\\n14.86,16.94,94.89,673.7,0.08924,1\\r\\n13.98,19.62,91.12,599.5,0.106,0\\r\\n12.87,19.54,82.67,509.2,0.09136,1\\r\\n14.04,15.98,89.78,611.2,0.08458,1\\r\\n13.85,19.6,88.68,592.6,0.08684,1\\r\\n14.02,15.66,89.59,606.5,0.07966,1\\r\\n10.97,17.2,71.73,371.5,0.08915,1\\r\\n17.27,25.42,112.4,928.8,0.08331,0\\r\\n13.78,15.79,88.37,585.9,0.08817,1\\r\\n10.57,18.32,66.82,340.9,0.08142,1\\r\\n18.03,16.85,117.5,990.0,0.08947,0\\r\\n11.99,24.89,77.61,441.3,0.103,1\\r\\n17.75,28.03,117.3,981.6,0.09997,0\\r\\n14.8,17.66,95.88,674.8,0.09179,1\\r\\n14.53,19.34,94.25,659.7,0.08388,1\\r\\n21.1,20.52,138.1,1384.0,0.09684,0\\r\\n11.87,21.54,76.83,432.0,0.06613,1\\r\\n19.59,25.0,127.7,1191.0,0.1032,0\\r\\n12.0,28.23,76.77,442.5,0.08437,1\\r\\n14.53,13.98,93.86,644.2,0.1099,1\\r\\n12.62,17.15,80.62,492.9,0.08583,1\\r\\n13.38,30.72,86.34,557.2,0.09245,1\\r\\n11.63,29.29,74.87,415.1,0.09357,1\\r\\n13.21,25.25,84.1,537.9,0.08791,1\\r\\n13.0,25.13,82.61,520.2,0.08369,1\\r\\n9.755,28.2,61.68,290.9,0.07984,1\\r\\n17.08,27.15,111.2,930.9,0.09898,0\\r\\n27.42,26.27,186.9,2501.0,0.1084,0\\r\\n14.4,26.99,92.25,646.1,0.06995,1\\r\\n11.6,18.36,73.88,412.7,0.08508,1\\r\\n13.17,18.22,84.28,537.3,0.07466,1\\r\\n13.24,20.13,86.87,542.9,0.08284,1\\r\\n13.14,20.74,85.98,536.9,0.08675,1\\r\\n9.668,18.1,61.06,286.3,0.08311,1\\r\\n17.6,23.33,119.0,980.5,0.09289,0\\r\\n11.62,18.18,76.38,408.8,0.1175,1\\r\\n9.667,18.49,61.49,289.1,0.08946,1\\r\\n12.04,28.14,76.85,449.9,0.08752,1\\r\\n14.92,14.93,96.45,686.9,0.08098,1\\r\\n12.27,29.97,77.42,465.4,0.07699,1\\r\\n10.88,15.62,70.41,358.9,0.1007,1\\r\\n12.83,15.73,82.89,506.9,0.0904,1\\r\\n14.2,20.53,92.41,618.4,0.08931,1\\r\\n13.9,16.62,88.97,599.4,0.06828,1\\r\\n11.49,14.59,73.99,404.9,0.1046,1\\r\\n16.25,19.51,109.8,815.8,0.1026,0\\r\\n12.16,18.03,78.29,455.3,0.09087,1\\r\\n13.9,19.24,88.73,602.9,0.07991,1\\r\\n13.47,14.06,87.32,546.3,0.1071,1\\r\\n13.7,17.64,87.76,571.1,0.0995,1\\r\\n15.73,11.28,102.8,747.2,0.1043,1\\r\\n12.45,16.41,82.85,476.7,0.09514,1\\r\\n14.64,16.85,94.21,666.0,0.08641,1\\r\\n19.44,18.82,128.1,1167.0,0.1089,0\\r\\n11.68,16.17,75.49,420.5,0.1128,1\\r\\n16.69,20.2,107.1,857.6,0.07497,0\\r\\n12.25,22.44,78.18,466.5,0.08192,1\\r\\n17.85,13.23,114.6,992.1,0.07838,1\\r\\n18.01,20.56,118.4,1007.0,0.1001,0\\r\\n12.46,12.83,78.83,477.3,0.07372,1\\r\\n13.16,20.54,84.06,538.7,0.07335,1\\r\\n14.87,20.21,96.12,680.9,0.09587,1\\r\\n12.65,18.17,82.69,485.6,0.1076,1\\r\\n12.47,17.31,80.45,480.1,0.08928,1\\r\\n18.49,17.52,121.3,1068.0,0.1012,0\\r\\n20.59,21.24,137.8,1320.0,0.1085,0\\r\\n15.04,16.74,98.73,689.4,0.09883,1\\r\\n13.82,24.49,92.33,595.9,0.1162,0\\r\\n12.54,16.32,81.25,476.3,0.1158,1\\r\\n23.09,19.83,152.1,1682.0,0.09342,0\\r\\n9.268,12.87,61.49,248.7,0.1634,1\\r\\n9.676,13.14,64.12,272.5,0.1255,1\\r\\n12.22,20.04,79.47,453.1,0.1096,1\\r\\n11.06,17.12,71.25,366.5,0.1194,1\\r\\n16.3,15.7,104.7,819.8,0.09427,1\\r\\n15.46,23.95,103.8,731.3,0.1183,0\\r\\n11.74,14.69,76.31,426.0,0.08099,1\\r\\n14.81,14.7,94.66,680.7,0.08472,1\\r\\n13.4,20.52,88.64,556.7,0.1106,0\\r\\n14.58,13.66,94.29,658.8,0.09832,1\\r\\n15.05,19.07,97.26,701.9,0.09215,0\\r\\n11.34,18.61,72.76,391.2,0.1049,1\\r\\n18.31,20.58,120.8,1052.0,0.1068,0\\r\\n19.89,20.26,130.5,1214.0,0.1037,0\\r\\n12.88,18.22,84.45,493.1,0.1218,1\\r\\n12.75,16.7,82.51,493.8,0.1125,1\\r\\n9.295,13.9,59.96,257.8,0.1371,1\\r\\n24.63,21.6,165.5,1841.0,0.103,0\\r\\n11.26,19.83,71.3,388.1,0.08511,1\\r\\n13.71,18.68,88.73,571.0,0.09916,1\\r\\n9.847,15.68,63.0,293.2,0.09492,1\\r\\n8.571,13.1,54.53,221.3,0.1036,1\\r\\n13.46,18.75,87.44,551.1,0.1075,1\\r\\n12.34,12.27,78.94,468.5,0.09003,1\\r\\n13.94,13.17,90.31,594.2,0.1248,1\\r\\n12.07,13.44,77.83,445.2,0.11,1\\r\\n11.75,17.56,75.89,422.9,0.1073,1\\r\\n11.67,20.02,75.21,416.2,0.1016,1\\r\\n13.68,16.33,87.76,575.5,0.09277,1\\r\\n20.47,20.67,134.7,1299.0,0.09156,0\\r\\n10.96,17.62,70.79,365.6,0.09687,1\\r\\n20.55,20.86,137.8,1308.0,0.1046,0\\r\\n14.27,22.55,93.77,629.8,0.1038,0\\r\\n11.69,24.44,76.37,406.4,0.1236,1\\r\\n7.729,25.49,47.98,178.8,0.08098,1\\r\\n7.691,25.44,48.34,170.4,0.08668,1\\r\\n11.54,14.44,74.65,402.9,0.09984,1\\r\\n14.47,24.99,95.81,656.4,0.08837,1\\r\\n14.74,25.42,94.7,668.6,0.08275,1\\r\\n13.21,28.06,84.88,538.4,0.08671,1\\r\\n13.87,20.7,89.77,584.8,0.09578,1\\r\\n13.62,23.23,87.19,573.2,0.09246,1\\r\\n10.32,16.35,65.31,324.9,0.09434,1\\r\\n10.26,16.58,65.85,320.8,0.08877,1\\r\\n9.683,19.34,61.05,285.7,0.08491,1\\r\\n10.82,24.21,68.89,361.6,0.08192,1\\r\\n10.86,21.48,68.51,360.5,0.07431,1\\r\\n11.13,22.44,71.49,378.4,0.09566,1\\r\\n12.77,29.43,81.35,507.9,0.08276,1\\r\\n9.333,21.94,59.01,264.0,0.0924,1\\r\\n12.88,28.92,82.5,514.3,0.08123,1\\r\\n10.29,27.61,65.67,321.4,0.0903,1\\r\\n10.16,19.59,64.73,311.7,0.1003,1\\r\\n9.423,27.88,59.26,271.3,0.08123,1\\r\\n14.59,22.68,96.39,657.1,0.08473,1\\r\\n11.51,23.93,74.52,403.5,0.09261,1\\r\\n14.05,27.15,91.38,600.4,0.09929,1\\r\\n11.2,29.37,70.67,386.0,0.07449,1\\r\\n15.22,30.62,103.4,716.9,0.1048,0\\r\\n20.92,25.09,143.0,1347.0,0.1099,0\\r\\n21.56,22.39,142.0,1479.0,0.111,0\\r\\n20.13,28.25,131.2,1261.0,0.0978,0\\r\\n16.6,28.08,108.3,858.1,0.08455,0\\r\\n20.6,29.33,140.1,1265.0,0.1178,0\\r\\n7.76,24.54,47.92,181.0,0.05263,1\\r\\n'}"
            ]
          },
          "metadata": {
            "tags": []
          },
          "execution_count": 4
        }
      ]
    },
    {
      "cell_type": "code",
      "metadata": {
        "colab": {
          "base_uri": "https://localhost:8080/",
          "height": 266
        },
        "id": "LL2ibgqtRdnO",
        "outputId": "ae9502aa-a55b-4947-9899-e2deac52c53f"
      },
      "source": [
        "#creating a data frame variable and moving data into it\n",
        "df=pd.read_csv('data.csv')\n",
        "df.head(7)\n",
        "\n",
        "\n"
      ],
      "execution_count": null,
      "outputs": [
        {
          "output_type": "execute_result",
          "data": {
            "text/html": [
              "<div>\n",
              "<style scoped>\n",
              "    .dataframe tbody tr th:only-of-type {\n",
              "        vertical-align: middle;\n",
              "    }\n",
              "\n",
              "    .dataframe tbody tr th {\n",
              "        vertical-align: top;\n",
              "    }\n",
              "\n",
              "    .dataframe thead th {\n",
              "        text-align: right;\n",
              "    }\n",
              "</style>\n",
              "<table border=\"1\" class=\"dataframe\">\n",
              "  <thead>\n",
              "    <tr style=\"text-align: right;\">\n",
              "      <th></th>\n",
              "      <th>mean_radius</th>\n",
              "      <th>mean_texture</th>\n",
              "      <th>mean_perimeter</th>\n",
              "      <th>mean_area</th>\n",
              "      <th>mean_smoothness</th>\n",
              "      <th>diagnosis</th>\n",
              "    </tr>\n",
              "  </thead>\n",
              "  <tbody>\n",
              "    <tr>\n",
              "      <th>0</th>\n",
              "      <td>17.99</td>\n",
              "      <td>10.38</td>\n",
              "      <td>122.80</td>\n",
              "      <td>1001.0</td>\n",
              "      <td>0.11840</td>\n",
              "      <td>0</td>\n",
              "    </tr>\n",
              "    <tr>\n",
              "      <th>1</th>\n",
              "      <td>20.57</td>\n",
              "      <td>17.77</td>\n",
              "      <td>132.90</td>\n",
              "      <td>1326.0</td>\n",
              "      <td>0.08474</td>\n",
              "      <td>0</td>\n",
              "    </tr>\n",
              "    <tr>\n",
              "      <th>2</th>\n",
              "      <td>19.69</td>\n",
              "      <td>21.25</td>\n",
              "      <td>130.00</td>\n",
              "      <td>1203.0</td>\n",
              "      <td>0.10960</td>\n",
              "      <td>0</td>\n",
              "    </tr>\n",
              "    <tr>\n",
              "      <th>3</th>\n",
              "      <td>11.42</td>\n",
              "      <td>20.38</td>\n",
              "      <td>77.58</td>\n",
              "      <td>386.1</td>\n",
              "      <td>0.14250</td>\n",
              "      <td>0</td>\n",
              "    </tr>\n",
              "    <tr>\n",
              "      <th>4</th>\n",
              "      <td>20.29</td>\n",
              "      <td>14.34</td>\n",
              "      <td>135.10</td>\n",
              "      <td>1297.0</td>\n",
              "      <td>0.10030</td>\n",
              "      <td>0</td>\n",
              "    </tr>\n",
              "    <tr>\n",
              "      <th>5</th>\n",
              "      <td>12.45</td>\n",
              "      <td>15.70</td>\n",
              "      <td>82.57</td>\n",
              "      <td>477.1</td>\n",
              "      <td>0.12780</td>\n",
              "      <td>0</td>\n",
              "    </tr>\n",
              "    <tr>\n",
              "      <th>6</th>\n",
              "      <td>18.25</td>\n",
              "      <td>19.98</td>\n",
              "      <td>119.60</td>\n",
              "      <td>1040.0</td>\n",
              "      <td>0.09463</td>\n",
              "      <td>0</td>\n",
              "    </tr>\n",
              "  </tbody>\n",
              "</table>\n",
              "</div>"
            ],
            "text/plain": [
              "   mean_radius  mean_texture  ...  mean_smoothness  diagnosis\n",
              "0        17.99         10.38  ...          0.11840          0\n",
              "1        20.57         17.77  ...          0.08474          0\n",
              "2        19.69         21.25  ...          0.10960          0\n",
              "3        11.42         20.38  ...          0.14250          0\n",
              "4        20.29         14.34  ...          0.10030          0\n",
              "5        12.45         15.70  ...          0.12780          0\n",
              "6        18.25         19.98  ...          0.09463          0\n",
              "\n",
              "[7 rows x 6 columns]"
            ]
          },
          "metadata": {
            "tags": []
          },
          "execution_count": 5
        }
      ]
    },
    {
      "cell_type": "code",
      "metadata": {
        "colab": {
          "base_uri": "https://localhost:8080/"
        },
        "id": "oFYaZwp_HsKt",
        "outputId": "a535dca9-e0fc-47de-d826-8617d5b11c94"
      },
      "source": [
        "#counting the rows and columns\n",
        "df.shape\n"
      ],
      "execution_count": null,
      "outputs": [
        {
          "output_type": "execute_result",
          "data": {
            "text/plain": [
              "(569, 6)"
            ]
          },
          "metadata": {
            "tags": []
          },
          "execution_count": 6
        }
      ]
    },
    {
      "cell_type": "code",
      "metadata": {
        "id": "KdkLoGzazNh_"
      },
      "source": [
        "#feature selection algos\n",
        "#Univariate selection \n",
        "import pandas as pd\n",
        "import numpy as np\n",
        "from sklearn.feature_selection import SelectKBest\n",
        "from sklearn.feature_selection import chi2\n",
        "data=pd.read_csv(\"data.csv\")\n",
        "x=data.iloc[:,0:5]#independent column\n",
        "y=data.iloc[:,-1]#target column"
      ],
      "execution_count": null,
      "outputs": []
    },
    {
      "cell_type": "code",
      "metadata": {
        "id": "I8Z0rvMc2h0O"
      },
      "source": [
        "#applying the  SelectKBest class to extract top 5 best\n",
        "best_features=SelectKBest(score_func=chi2 , k=5)\n",
        "fit=best_features.fit(x,y)\n",
        "\n",
        "\n"
      ],
      "execution_count": null,
      "outputs": []
    },
    {
      "cell_type": "code",
      "metadata": {
        "id": "QSFgXUGz_iwe"
      },
      "source": [
        "dfscores = pd.DataFrame(fit.scores_)\n",
        "dfcolumns = pd.DataFrame(x.columns)#specs are basically the column heads"
      ],
      "execution_count": null,
      "outputs": []
    },
    {
      "cell_type": "code",
      "metadata": {
        "id": "dw15YC8R_pxK"
      },
      "source": [
        "featureScores = pd.concat([dfcolumns,dfscores],axis=1)#calculation of scores using chi2 test\n",
        "featureScores.columns = ['Specs','Score']  #naming the dataframe columns"
      ],
      "execution_count": null,
      "outputs": []
    },
    {
      "cell_type": "code",
      "metadata": {
        "colab": {
          "base_uri": "https://localhost:8080/",
          "height": 204
        },
        "id": "U8pNuubP_yll",
        "outputId": "97fa2e7c-f1b2-4401-b236-9baa8a6b6ade"
      },
      "source": [
        "featureScores"
      ],
      "execution_count": null,
      "outputs": [
        {
          "output_type": "execute_result",
          "data": {
            "text/html": [
              "<div>\n",
              "<style scoped>\n",
              "    .dataframe tbody tr th:only-of-type {\n",
              "        vertical-align: middle;\n",
              "    }\n",
              "\n",
              "    .dataframe tbody tr th {\n",
              "        vertical-align: top;\n",
              "    }\n",
              "\n",
              "    .dataframe thead th {\n",
              "        text-align: right;\n",
              "    }\n",
              "</style>\n",
              "<table border=\"1\" class=\"dataframe\">\n",
              "  <thead>\n",
              "    <tr style=\"text-align: right;\">\n",
              "      <th></th>\n",
              "      <th>Specs</th>\n",
              "      <th>Score</th>\n",
              "    </tr>\n",
              "  </thead>\n",
              "  <tbody>\n",
              "    <tr>\n",
              "      <th>0</th>\n",
              "      <td>mean_radius</td>\n",
              "      <td>266.104917</td>\n",
              "    </tr>\n",
              "    <tr>\n",
              "      <th>1</th>\n",
              "      <td>mean_texture</td>\n",
              "      <td>93.897508</td>\n",
              "    </tr>\n",
              "    <tr>\n",
              "      <th>2</th>\n",
              "      <td>mean_perimeter</td>\n",
              "      <td>2011.102864</td>\n",
              "    </tr>\n",
              "    <tr>\n",
              "      <th>3</th>\n",
              "      <td>mean_area</td>\n",
              "      <td>53991.655924</td>\n",
              "    </tr>\n",
              "    <tr>\n",
              "      <th>4</th>\n",
              "      <td>mean_smoothness</td>\n",
              "      <td>0.149899</td>\n",
              "    </tr>\n",
              "  </tbody>\n",
              "</table>\n",
              "</div>"
            ],
            "text/plain": [
              "             Specs         Score\n",
              "0      mean_radius    266.104917\n",
              "1     mean_texture     93.897508\n",
              "2   mean_perimeter   2011.102864\n",
              "3        mean_area  53991.655924\n",
              "4  mean_smoothness      0.149899"
            ]
          },
          "metadata": {
            "tags": []
          },
          "execution_count": 12
        }
      ]
    },
    {
      "cell_type": "code",
      "metadata": {
        "colab": {
          "base_uri": "https://localhost:8080/"
        },
        "id": "yNZ5h4GNAagz",
        "outputId": "75276479-623e-4fcd-c8e4-1a824b81580b"
      },
      "source": [
        "\n",
        "print(featureScores.nlargest(5,'Score'))"
      ],
      "execution_count": null,
      "outputs": [
        {
          "output_type": "stream",
          "text": [
            "             Specs         Score\n",
            "3        mean_area  53991.655924\n",
            "2   mean_perimeter   2011.102864\n",
            "0      mean_radius    266.104917\n",
            "1     mean_texture     93.897508\n",
            "4  mean_smoothness      0.149899\n"
          ],
          "name": "stdout"
        }
      ]
    },
    {
      "cell_type": "code",
      "metadata": {
        "colab": {
          "base_uri": "https://localhost:8080/"
        },
        "id": "NCPF4typJbTd",
        "outputId": "18e7d18f-3d22-4db9-e243-0e34e319e2de"
      },
      "source": [
        "import numpy as np\n",
        "import pandas as pd\n",
        "import matplotlib.pyplot as plt\n",
        "import sys\n",
        "from sklearn.feature_selection import SelectKBest\n",
        "from sklearn.feature_selection import chi2\n",
        "from sklearn.feature_selection import SelectFromModel\n",
        "\n",
        "from sklearn.model_selection import train_test_split\n",
        "from sklearn.ensemble import RandomForestRegressor, RandomForestClassifier\n",
        "from sklearn.metrics import roc_auc_score\n",
        "from mlxtend.feature_selection import SequentialFeatureSelector as SFS\n",
        "\n",
        "from sklearn.linear_model import Lasso, LogisticRegression\n",
        "from sklearn.preprocessing import StandardScaler\n",
        "from sklearn.metrics import accuracy_score\n",
        "\n",
        "import statsmodels.api as sm\n",
        "\n",
        "def read_path(path):\n",
        "    df = pd.read_csv(path)\n",
        "    print('shape ' , df.shape)\n",
        "    print()\n",
        "    print(df.info())\n",
        "    return df.iloc[:,0:-1],df.iloc[:,-1]\n",
        "\n",
        "\n",
        "def forward_selection(data, target, significance_level=0.05):\n",
        "    initial_features = data.columns.tolist()\n",
        "    best_features = []\n",
        "    while (len(initial_features)>0):\n",
        "        remaining_features = list(set(initial_features)-set(best_features))\n",
        "        new_pval = pd.Series(index=remaining_features)\n",
        "        for new_column in remaining_features:\n",
        "            model = sm.OLS(target, sm.add_constant(data[best_features+[new_column]])).fit()\n",
        "            new_pval[new_column] = model.pvalues[new_column]\n",
        "        min_p_value = new_pval.min()\n",
        "        if(min_p_value<significance_level):\n",
        "            best_features.append(new_pval.idxmin())\n",
        "        else:\n",
        "            break\n",
        "    data = list(data)\n",
        "    for i in range(len(data)):\n",
        "        if data[i] in best_features:\n",
        "            data[i] = True\n",
        "        else :\n",
        "            data[i] = False\n",
        "    return data\n",
        "\n",
        "\n",
        "def indexes(X,ar):\n",
        "    index_array = []\n",
        "    c = 0\n",
        "    for i in list(ar[0]):\n",
        "        if i == True:\n",
        "            index_array.append(c)\n",
        "        c+=1\n",
        "    print(index_array)\n",
        "    return X.iloc[:,index_array]\n",
        "\n",
        "\n",
        "X,y = read_path('data.csv')\n",
        "#X,y = read_path('D:\\HAckathons\\Bytecamp-Innovations-Techxtar\\dataset3.csv')\n",
        "\n",
        "\n",
        "columns = pd.DataFrame(list(X.columns))\n",
        "\n",
        "\n",
        "\n",
        "forward_selection = pd.DataFrame(forward_selection(X, y))\n",
        "X0 = indexes(X,forward_selection)\n",
        "\n",
        "chi_square = pd.DataFrame(SelectKBest(score_func=chi2 , k='all').fit(X0,y).get_support())\n",
        "X1 = indexes(X0,chi_square)\n",
        "\n",
        "RFC = pd.DataFrame(SelectFromModel(RandomForestClassifier(random_state=0)).fit(X1, y).get_support())\n",
        "X2 = indexes(X1,RFC)\n",
        "\n",
        "lss = pd.DataFrame(SelectFromModel(Lasso(random_state=0)).fit(X2, y).get_support())\n",
        "X3 = indexes(X2,lss)\n",
        "\n",
        "print(X.columns)\n",
        "print(X0.columns)\n",
        "print(X1.columns)\n",
        "print(X2.columns)\n",
        "print(X3.columns)\n",
        "\n",
        "\n",
        "# result = pd.concat([columns,chi_square,RFC,lss,lr,forward_selection],axis=1)\n",
        "# result = pd.concat([result,result.sum(axis=1)],axis=1)\n",
        "# result.columns = ['Specs','Chi-square','Random Forest','Lasso','Logistic Regression','Forward Selection','Total']\n",
        "\n",
        "# result.to_csv('result.csv')\n",
        "\n",
        "# print('Saved Result.csv')"
      ],
      "execution_count": null,
      "outputs": [
        {
          "output_type": "stream",
          "text": [
            "shape  (569, 6)\n",
            "\n",
            "<class 'pandas.core.frame.DataFrame'>\n",
            "RangeIndex: 569 entries, 0 to 568\n",
            "Data columns (total 6 columns):\n",
            " #   Column           Non-Null Count  Dtype  \n",
            "---  ------           --------------  -----  \n",
            " 0   mean_radius      569 non-null    float64\n",
            " 1   mean_texture     569 non-null    float64\n",
            " 2   mean_perimeter   569 non-null    float64\n",
            " 3   mean_area        569 non-null    float64\n",
            " 4   mean_smoothness  569 non-null    float64\n",
            " 5   diagnosis        569 non-null    int64  \n",
            "dtypes: float64(5), int64(1)\n",
            "memory usage: 26.8 KB\n",
            "None\n",
            "[1, 2, 3, 4]\n",
            "[0, 1, 2, 3]\n"
          ],
          "name": "stdout"
        },
        {
          "output_type": "stream",
          "text": [
            "/usr/local/lib/python3.7/dist-packages/ipykernel_launcher.py:33: DeprecationWarning: The default dtype for empty Series will be 'object' instead of 'float64' in a future version. Specify a dtype explicitly to silence this warning.\n"
          ],
          "name": "stderr"
        },
        {
          "output_type": "stream",
          "text": [
            "[1, 2]\n",
            "[1]\n",
            "Index(['mean_radius', 'mean_texture', 'mean_perimeter', 'mean_area',\n",
            "       'mean_smoothness'],\n",
            "      dtype='object')\n",
            "Index(['mean_texture', 'mean_perimeter', 'mean_area', 'mean_smoothness'], dtype='object')\n",
            "Index(['mean_texture', 'mean_perimeter', 'mean_area', 'mean_smoothness'], dtype='object')\n",
            "Index(['mean_perimeter', 'mean_area'], dtype='object')\n",
            "Index(['mean_area'], dtype='object')\n"
          ],
          "name": "stdout"
        }
      ]
    },
    {
      "cell_type": "code",
      "metadata": {
        "colab": {
          "base_uri": "https://localhost:8080/",
          "height": 438
        },
        "id": "64EKVz7EJhTi",
        "outputId": "873ea2a4-abf6-4405-b167-ccfdafb77697"
      },
      "source": [
        "#visualizing the data for each feature selection algo\n",
        "sns.distplot(X0)\n",
        "sns.distplot(X1)\n",
        "sns.distplot(X2)\n",
        "sns.distplot(X3)"
      ],
      "execution_count": null,
      "outputs": [
        {
          "output_type": "stream",
          "text": [
            "/usr/local/lib/python3.7/dist-packages/seaborn/distributions.py:2557: FutureWarning: `distplot` is a deprecated function and will be removed in a future version. Please adapt your code to use either `displot` (a figure-level function with similar flexibility) or `histplot` (an axes-level function for histograms).\n",
            "  warnings.warn(msg, FutureWarning)\n",
            "/usr/local/lib/python3.7/dist-packages/seaborn/distributions.py:2557: FutureWarning: `distplot` is a deprecated function and will be removed in a future version. Please adapt your code to use either `displot` (a figure-level function with similar flexibility) or `histplot` (an axes-level function for histograms).\n",
            "  warnings.warn(msg, FutureWarning)\n",
            "/usr/local/lib/python3.7/dist-packages/seaborn/distributions.py:2557: FutureWarning: `distplot` is a deprecated function and will be removed in a future version. Please adapt your code to use either `displot` (a figure-level function with similar flexibility) or `histplot` (an axes-level function for histograms).\n",
            "  warnings.warn(msg, FutureWarning)\n",
            "/usr/local/lib/python3.7/dist-packages/seaborn/distributions.py:2557: FutureWarning: `distplot` is a deprecated function and will be removed in a future version. Please adapt your code to use either `displot` (a figure-level function with similar flexibility) or `histplot` (an axes-level function for histograms).\n",
            "  warnings.warn(msg, FutureWarning)\n"
          ],
          "name": "stderr"
        },
        {
          "output_type": "execute_result",
          "data": {
            "text/plain": [
              "<matplotlib.axes._subplots.AxesSubplot at 0x7f52511d5f50>"
            ]
          },
          "metadata": {
            "tags": []
          },
          "execution_count": 16
        },
        {
          "output_type": "display_data",
          "data": {
            "image/png": "[encoded data removed]",
            "text/plain": [
              "<Figure size 432x288 with 1 Axes>"
            ]
          },
          "metadata": {
            "tags": [],
            "needs_background": "light"
          }
        }
      ]
    },
    {
      "cell_type": "code",
      "metadata": {
        "colab": {
          "base_uri": "https://localhost:8080/",
          "height": 1000
        },
        "id": "mTK4LqepPKsG",
        "outputId": "196da747-dcc7-4302-de81-52dc9e2d5a48"
      },
      "source": [
        "\n",
        "plt.hist(X0, 5)\n",
        "plt.show()\n",
        "\n",
        "plt.hist(X1, 5)\n",
        "plt.show()\n",
        "\n",
        "plt.hist(X2, 5)\n",
        "plt.show()\n",
        "\n",
        "plt.hist(X3, 5)\n",
        "plt.show()"
      ],
      "execution_count": null,
      "outputs": [
        {
          "output_type": "display_data",
          "data": {
            "image/png": "[encoded data removed]",
            "text/plain": [
              "<Figure size 432x288 with 1 Axes>"
            ]
          },
          "metadata": {
            "tags": [],
            "needs_background": "light"
          }
        },
        {
          "output_type": "display_data",
          "data": {
            "image/png": "[encoded data removed]",
            "text/plain": [
              "<Figure size 432x288 with 1 Axes>"
            ]
          },
          "metadata": {
            "tags": [],
            "needs_background": "light"
          }
        },
        {
          "output_type": "display_data",
          "data": {
            "image/png": "[encoded data removed]",
            "text/plain": [
              "<Figure size 432x288 with 1 Axes>"
            ]
          },
          "metadata": {
            "tags": [],
            "needs_background": "light"
          }
        },
        {
          "output_type": "display_data",
          "data": {
            "image/png": "[encoded data removed]",
            "text/plain": [
              "<Figure size 432x288 with 1 Axes>"
            ]
          },
          "metadata": {
            "tags": [],
            "needs_background": "light"
          }
        }
      ]
    },
    {
      "cell_type": "code",
      "metadata": {
        "colab": {
          "base_uri": "https://localhost:8080/"
        },
        "id": "Xs8yUDed62ef",
        "outputId": "61515a27-7664-4991-ad4e-0a21cded58f9"
      },
      "source": [
        "np.var(X0)\n",
        "\n"
      ],
      "execution_count": null,
      "outputs": [
        {
          "output_type": "execute_result",
          "data": {
            "text/plain": [
              "mean_texture           18.466397\n",
              "mean_perimeter        589.402799\n",
              "mean_area          123625.903080\n",
              "mean_smoothness         0.000197\n",
              "dtype: float64"
            ]
          },
          "metadata": {
            "tags": []
          },
          "execution_count": 21
        }
      ]
    },
    {
      "cell_type": "code",
      "metadata": {
        "id": "_HWk-ykj8zVW"
      },
      "source": [
        ""
      ],
      "execution_count": null,
      "outputs": []
    },
    {
      "cell_type": "code",
      "metadata": {
        "colab": {
          "base_uri": "https://localhost:8080/",
          "height": 162
        },
        "id": "HmGgSpyh8zl2",
        "outputId": "8d438fef-b0b3-4c81-e58e-8ed2e554391b"
      },
      "source": [
        "np.cor(X0)"
      ],
      "execution_count": null,
      "outputs": [
        {
          "output_type": "error",
          "ename": "NameError",
          "evalue": "ignored",
          "traceback": [
            "\u001b[0;31m---------------------------------------------------------------------------\u001b[0m",
            "\u001b[0;31mNameError\u001b[0m                                 Traceback (most recent call last)",
            "\u001b[0;32m<ipython-input-1-c74da18b2774>\u001b[0m in \u001b[0;36m<module>\u001b[0;34m()\u001b[0m\n\u001b[0;32m----> 1\u001b[0;31m \u001b[0mnp\u001b[0m\u001b[0;34m.\u001b[0m\u001b[0mcor\u001b[0m\u001b[0;34m(\u001b[0m\u001b[0mX0\u001b[0m\u001b[0;34m)\u001b[0m\u001b[0;34m\u001b[0m\u001b[0;34m\u001b[0m\u001b[0m\n\u001b[0m",
            "\u001b[0;31mNameError\u001b[0m: name 'np' is not defined"
          ]
        }
      ]
    }
  ]
}